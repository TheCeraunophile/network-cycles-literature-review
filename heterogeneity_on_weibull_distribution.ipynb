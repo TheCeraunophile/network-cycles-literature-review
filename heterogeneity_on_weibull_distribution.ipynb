{
 "cells": [
  {
   "cell_type": "code",
   "execution_count": 2,
   "metadata": {
    "id": "RFZsvHxVWT_A"
   },
   "outputs": [],
   "source": [
    "import math\n",
    "import networkx as nx\n",
    "import numpy as np\n",
    "import scipy\n",
    "from santafe import plplot, plfit, degree_sequence, Average\n",
    "import matplotlib.pyplot as plt\n",
    "\n",
    "\n",
    "def create_graph(sigma, _lambda=5, _N=1000):\n",
    "  for _ in range(100):\n",
    "    #rv = weibull_min(-1*math.log(sigma), scale=_lambda)\n",
    "    #seq = np.array(rv.rvs(size=1000))\n",
    "    seq = np.random.weibull(-1*math.log(sigma), _N) * _lambda\n",
    "    seq = np.round(seq).astype(int)\n",
    "    seq = [_N-2 if val >= _N else val for val in seq]\n",
    "    seq = [1 if val == 0 else val for val in seq]\n",
    "    seq = [d + 1 if d % 2 != 0 else d for d in seq]\n",
    "    g = nx.configuration_model(seq)\n",
    "    g = nx.Graph(g)\n",
    "    g.remove_edges_from(nx.selfloop_edges(g))\n",
    "    if nx.is_connected(g):\n",
    "      graph = nx.to_numpy_array(g)\n",
    "      graph[graph!=0] = 1.0\n",
    "      graph_nx = nx.from_numpy_array(graph)\n",
    "      # graph_sparse = scipy.sparse.csr_matrix(graph)\n",
    "      # n_edges = graph.sum()\n",
    "      return graph_nx, seq\n",
    "  raise ValueError(\"Could not generate a connected graph after 200 attempts.\")"
   ]
  },
  {
   "cell_type": "code",
   "execution_count": 4,
   "metadata": {
    "colab": {
     "base_uri": "https://localhost:8080/"
    },
    "executionInfo": {
     "elapsed": 1540976,
     "status": "ok",
     "timestamp": 1736229564804,
     "user": {
      "displayName": "Soheil",
      "userId": "02148889709647549831"
     },
     "user_tz": -210
    },
    "id": "jfllC8yOcyqR",
    "outputId": "9189f663-0822-4cbe-f49d-b1fd5f916074"
   },
   "outputs": [
    {
     "name": "stderr",
     "output_type": "stream",
     "text": [
      " 45%|██████████████████████████████████▋                                          | 45/100 [04:29<06:40,  7.29s/it]"
     ]
    },
    {
     "name": "stdout",
     "output_type": "stream",
     "text": [
      "(PLFIT) Warning: finite-size bias may be present.\n",
      "\n"
     ]
    },
    {
     "name": "stderr",
     "output_type": "stream",
     "text": [
      " 49%|█████████████████████████████████████▋                                       | 49/100 [05:00<06:36,  7.78s/it]"
     ]
    },
    {
     "name": "stdout",
     "output_type": "stream",
     "text": [
      "(PLFIT) Warning: finite-size bias may be present.\n",
      "\n"
     ]
    },
    {
     "name": "stderr",
     "output_type": "stream",
     "text": [
      " 52%|████████████████████████████████████████                                     | 52/100 [05:27<06:51,  8.57s/it]"
     ]
    },
    {
     "name": "stdout",
     "output_type": "stream",
     "text": [
      "(PLFIT) Warning: finite-size bias may be present.\n",
      "\n"
     ]
    },
    {
     "name": "stderr",
     "output_type": "stream",
     "text": [
      " 54%|█████████████████████████████████████████▌                                   | 54/100 [05:47<07:09,  9.34s/it]"
     ]
    },
    {
     "name": "stdout",
     "output_type": "stream",
     "text": [
      "(PLFIT) Warning: finite-size bias may be present.\n",
      "\n"
     ]
    },
    {
     "name": "stderr",
     "output_type": "stream",
     "text": [
      " 55%|██████████████████████████████████████████▎                                  | 55/100 [05:58<07:16,  9.69s/it]"
     ]
    },
    {
     "name": "stdout",
     "output_type": "stream",
     "text": [
      "(PLFIT) Warning: finite-size bias may be present.\n",
      "\n"
     ]
    },
    {
     "name": "stderr",
     "output_type": "stream",
     "text": [
      " 56%|███████████████████████████████████████████                                  | 56/100 [06:08<07:13,  9.86s/it]"
     ]
    },
    {
     "name": "stdout",
     "output_type": "stream",
     "text": [
      "(PLFIT) Warning: finite-size bias may be present.\n",
      "\n"
     ]
    },
    {
     "name": "stderr",
     "output_type": "stream",
     "text": [
      " 59%|█████████████████████████████████████████████▍                               | 59/100 [06:42<07:29, 10.96s/it]"
     ]
    },
    {
     "name": "stdout",
     "output_type": "stream",
     "text": [
      "(PLFIT) Warning: finite-size bias may be present.\n",
      "\n",
      "(PLFIT) Warning: finite-size bias may be present.\n",
      "\n"
     ]
    },
    {
     "name": "stderr",
     "output_type": "stream",
     "text": [
      " 60%|██████████████████████████████████████████████▏                              | 60/100 [06:54<07:29, 11.25s/it]"
     ]
    },
    {
     "name": "stdout",
     "output_type": "stream",
     "text": [
      "(PLFIT) Warning: finite-size bias may be present.\n",
      "\n",
      "(PLFIT) Warning: finite-size bias may be present.\n",
      "\n"
     ]
    },
    {
     "name": "stderr",
     "output_type": "stream",
     "text": [
      " 61%|██████████████████████████████████████████████▉                              | 61/100 [07:06<07:28, 11.51s/it]"
     ]
    },
    {
     "name": "stdout",
     "output_type": "stream",
     "text": [
      "(PLFIT) Warning: finite-size bias may be present.\n",
      "\n"
     ]
    },
    {
     "name": "stderr",
     "output_type": "stream",
     "text": [
      " 63%|████████████████████████████████████████████████▌                            | 63/100 [07:32<07:34, 12.27s/it]"
     ]
    },
    {
     "name": "stdout",
     "output_type": "stream",
     "text": [
      "(PLFIT) Warning: finite-size bias may be present.\n",
      "\n"
     ]
    },
    {
     "name": "stderr",
     "output_type": "stream",
     "text": [
      " 64%|█████████████████████████████████████████████████▎                           | 64/100 [07:47<07:49, 13.03s/it]"
     ]
    },
    {
     "name": "stdout",
     "output_type": "stream",
     "text": [
      "(PLFIT) Warning: finite-size bias may be present.\n",
      "\n",
      "(PLFIT) Warning: finite-size bias may be present.\n",
      "\n",
      "(PLFIT) Warning: finite-size bias may be present.\n",
      "\n",
      "(PLFIT) Warning: finite-size bias may be present.\n",
      "\n",
      "(PLFIT) Warning: finite-size bias may be present.\n",
      "\n",
      "(PLFIT) Warning: finite-size bias may be present.\n",
      "\n",
      "(PLFIT) Warning: finite-size bias may be present.\n",
      "\n"
     ]
    },
    {
     "name": "stderr",
     "output_type": "stream",
     "text": [
      " 65%|██████████████████████████████████████████████████                           | 65/100 [08:02<07:55, 13.60s/it]"
     ]
    },
    {
     "name": "stdout",
     "output_type": "stream",
     "text": [
      "(PLFIT) Warning: finite-size bias may be present.\n",
      "\n",
      "(PLFIT) Warning: finite-size bias may be present.\n",
      "\n"
     ]
    },
    {
     "name": "stderr",
     "output_type": "stream",
     "text": [
      " 66%|██████████████████████████████████████████████████▊                          | 66/100 [08:18<08:03, 14.23s/it]"
     ]
    },
    {
     "name": "stdout",
     "output_type": "stream",
     "text": [
      "(PLFIT) Warning: finite-size bias may be present.\n",
      "\n",
      "(PLFIT) Warning: finite-size bias may be present.\n",
      "\n",
      "(PLFIT) Warning: finite-size bias may be present.\n",
      "\n",
      "(PLFIT) Warning: finite-size bias may be present.\n",
      "\n",
      "(PLFIT) Warning: finite-size bias may be present.\n",
      "\n",
      "(PLFIT) Warning: finite-size bias may be present.\n",
      "\n"
     ]
    },
    {
     "name": "stderr",
     "output_type": "stream",
     "text": [
      " 67%|███████████████████████████████████████████████████▌                         | 67/100 [08:34<08:09, 14.84s/it]"
     ]
    },
    {
     "name": "stdout",
     "output_type": "stream",
     "text": [
      "(PLFIT) Warning: finite-size bias may be present.\n",
      "\n",
      "(PLFIT) Warning: finite-size bias may be present.\n",
      "\n"
     ]
    },
    {
     "name": "stderr",
     "output_type": "stream",
     "text": [
      " 68%|████████████████████████████████████████████████████▎                        | 68/100 [08:51<08:19, 15.62s/it]"
     ]
    },
    {
     "name": "stdout",
     "output_type": "stream",
     "text": [
      "(PLFIT) Warning: finite-size bias may be present.\n",
      "\n",
      "(PLFIT) Warning: finite-size bias may be present.\n",
      "\n",
      "(PLFIT) Warning: finite-size bias may be present.\n",
      "\n",
      "(PLFIT) Warning: finite-size bias may be present.\n",
      "\n",
      "(PLFIT) Warning: finite-size bias may be present.\n",
      "\n"
     ]
    },
    {
     "name": "stderr",
     "output_type": "stream",
     "text": [
      " 69%|█████████████████████████████████████████████████████▏                       | 69/100 [09:10<08:31, 16.50s/it]"
     ]
    },
    {
     "name": "stdout",
     "output_type": "stream",
     "text": [
      "(PLFIT) Warning: finite-size bias may be present.\n",
      "\n",
      "(PLFIT) Warning: finite-size bias may be present.\n",
      "\n",
      "(PLFIT) Warning: finite-size bias may be present.\n",
      "\n",
      "(PLFIT) Warning: finite-size bias may be present.\n",
      "\n",
      "(PLFIT) Warning: finite-size bias may be present.\n",
      "\n",
      "(PLFIT) Warning: finite-size bias may be present.\n",
      "\n",
      "(PLFIT) Warning: finite-size bias may be present.\n",
      "\n"
     ]
    },
    {
     "name": "stderr",
     "output_type": "stream",
     "text": [
      " 70%|█████████████████████████████████████████████████████▉                       | 70/100 [09:30<08:44, 17.49s/it]"
     ]
    },
    {
     "name": "stdout",
     "output_type": "stream",
     "text": [
      "(PLFIT) Warning: finite-size bias may be present.\n",
      "\n",
      "(PLFIT) Warning: finite-size bias may be present.\n",
      "\n",
      "(PLFIT) Warning: finite-size bias may be present.\n",
      "\n",
      "(PLFIT) Warning: finite-size bias may be present.\n",
      "\n",
      "(PLFIT) Warning: finite-size bias may be present.\n",
      "\n",
      "(PLFIT) Warning: finite-size bias may be present.\n",
      "\n",
      "(PLFIT) Warning: finite-size bias may be present.\n",
      "\n",
      "(PLFIT) Warning: finite-size bias may be present.\n",
      "\n",
      "(PLFIT) Warning: finite-size bias may be present.\n",
      "\n"
     ]
    },
    {
     "name": "stderr",
     "output_type": "stream",
     "text": [
      " 71%|██████████████████████████████████████████████████████▋                      | 71/100 [09:50<08:50, 18.31s/it]"
     ]
    },
    {
     "name": "stdout",
     "output_type": "stream",
     "text": [
      "(PLFIT) Warning: finite-size bias may be present.\n",
      "\n",
      "(PLFIT) Warning: finite-size bias may be present.\n",
      "\n",
      "(PLFIT) Warning: finite-size bias may be present.\n",
      "\n",
      "(PLFIT) Warning: finite-size bias may be present.\n",
      "\n",
      "(PLFIT) Warning: finite-size bias may be present.\n",
      "\n",
      "(PLFIT) Warning: finite-size bias may be present.\n",
      "\n",
      "(PLFIT) Warning: finite-size bias may be present.\n",
      "\n"
     ]
    },
    {
     "name": "stderr",
     "output_type": "stream",
     "text": [
      " 72%|███████████████████████████████████████████████████████▍                     | 72/100 [10:13<09:10, 19.65s/it]"
     ]
    },
    {
     "name": "stdout",
     "output_type": "stream",
     "text": [
      "(PLFIT) Warning: finite-size bias may be present.\n",
      "\n",
      "(PLFIT) Warning: finite-size bias may be present.\n",
      "\n",
      "(PLFIT) Warning: finite-size bias may be present.\n",
      "\n",
      "(PLFIT) Warning: finite-size bias may be present.\n",
      "\n",
      "(PLFIT) Warning: finite-size bias may be present.\n",
      "\n",
      "(PLFIT) Warning: finite-size bias may be present.\n",
      "\n",
      "(PLFIT) Warning: finite-size bias may be present.\n",
      "\n",
      "(PLFIT) Warning: finite-size bias may be present.\n",
      "\n",
      "(PLFIT) Warning: finite-size bias may be present.\n",
      "\n",
      "(PLFIT) Warning: finite-size bias may be present.\n",
      "\n"
     ]
    },
    {
     "name": "stderr",
     "output_type": "stream",
     "text": [
      " 73%|████████████████████████████████████████████████████████▏                    | 73/100 [10:37<09:27, 21.02s/it]"
     ]
    },
    {
     "name": "stdout",
     "output_type": "stream",
     "text": [
      "(PLFIT) Warning: finite-size bias may be present.\n",
      "\n",
      "(PLFIT) Warning: finite-size bias may be present.\n",
      "\n",
      "(PLFIT) Warning: finite-size bias may be present.\n",
      "\n",
      "(PLFIT) Warning: finite-size bias may be present.\n",
      "\n",
      "(PLFIT) Warning: finite-size bias may be present.\n",
      "\n",
      "(PLFIT) Warning: finite-size bias may be present.\n",
      "\n",
      "(PLFIT) Warning: finite-size bias may be present.\n",
      "\n",
      "(PLFIT) Warning: finite-size bias may be present.\n",
      "\n",
      "(PLFIT) Warning: finite-size bias may be present.\n",
      "\n",
      "(PLFIT) Warning: finite-size bias may be present.\n",
      "\n",
      "(PLFIT) Warning: finite-size bias may be present.\n",
      "\n"
     ]
    },
    {
     "name": "stderr",
     "output_type": "stream",
     "text": [
      " 74%|████████████████████████████████████████████████████████▉                    | 74/100 [11:03<09:45, 22.51s/it]"
     ]
    },
    {
     "name": "stdout",
     "output_type": "stream",
     "text": [
      "(PLFIT) Warning: finite-size bias may be present.\n",
      "\n",
      "(PLFIT) Warning: finite-size bias may be present.\n",
      "\n",
      "(PLFIT) Warning: finite-size bias may be present.\n",
      "\n",
      "(PLFIT) Warning: finite-size bias may be present.\n",
      "\n",
      "(PLFIT) Warning: finite-size bias may be present.\n",
      "\n",
      "(PLFIT) Warning: finite-size bias may be present.\n",
      "\n",
      "(PLFIT) Warning: finite-size bias may be present.\n",
      "\n",
      "(PLFIT) Warning: finite-size bias may be present.\n",
      "\n",
      "(PLFIT) Warning: finite-size bias may be present.\n",
      "\n",
      "(PLFIT) Warning: finite-size bias may be present.\n",
      "\n",
      "(PLFIT) Warning: finite-size bias may be present.\n",
      "\n",
      "(PLFIT) Warning: finite-size bias may be present.\n",
      "\n",
      "(PLFIT) Warning: finite-size bias may be present.\n",
      "\n",
      "(PLFIT) Warning: finite-size bias may be present.\n",
      "\n",
      "(PLFIT) Warning: finite-size bias may be present.\n",
      "\n",
      "(PLFIT) Warning: finite-size bias may be present.\n",
      "\n",
      "(PLFIT) Warning: finite-size bias may be present.\n",
      "\n"
     ]
    },
    {
     "name": "stderr",
     "output_type": "stream",
     "text": [
      " 75%|█████████████████████████████████████████████████████████▊                   | 75/100 [11:32<10:10, 24.42s/it]"
     ]
    },
    {
     "name": "stdout",
     "output_type": "stream",
     "text": [
      "(PLFIT) Warning: finite-size bias may be present.\n",
      "\n",
      "(PLFIT) Warning: finite-size bias may be present.\n",
      "\n",
      "(PLFIT) Warning: finite-size bias may be present.\n",
      "\n",
      "(PLFIT) Warning: finite-size bias may be present.\n",
      "\n",
      "(PLFIT) Warning: finite-size bias may be present.\n",
      "\n",
      "(PLFIT) Warning: finite-size bias may be present.\n",
      "\n",
      "(PLFIT) Warning: finite-size bias may be present.\n",
      "\n",
      "(PLFIT) Warning: finite-size bias may be present.\n",
      "\n",
      "(PLFIT) Warning: finite-size bias may be present.\n",
      "\n",
      "(PLFIT) Warning: finite-size bias may be present.\n",
      "\n",
      "(PLFIT) Warning: finite-size bias may be present.\n",
      "\n",
      "(PLFIT) Warning: finite-size bias may be present.\n",
      "\n",
      "(PLFIT) Warning: finite-size bias may be present.\n",
      "\n"
     ]
    },
    {
     "name": "stderr",
     "output_type": "stream",
     "text": [
      " 76%|██████████████████████████████████████████████████████████▌                  | 76/100 [12:02<10:25, 26.07s/it]"
     ]
    },
    {
     "name": "stdout",
     "output_type": "stream",
     "text": [
      "(PLFIT) Warning: finite-size bias may be present.\n",
      "\n",
      "(PLFIT) Warning: finite-size bias may be present.\n",
      "\n",
      "(PLFIT) Warning: finite-size bias may be present.\n",
      "\n",
      "(PLFIT) Warning: finite-size bias may be present.\n",
      "\n",
      "(PLFIT) Warning: finite-size bias may be present.\n",
      "\n",
      "(PLFIT) Warning: finite-size bias may be present.\n",
      "\n",
      "(PLFIT) Warning: finite-size bias may be present.\n",
      "\n",
      "(PLFIT) Warning: finite-size bias may be present.\n",
      "\n",
      "(PLFIT) Warning: finite-size bias may be present.\n",
      "\n",
      "(PLFIT) Warning: finite-size bias may be present.\n",
      "\n",
      "(PLFIT) Warning: finite-size bias may be present.\n",
      "\n",
      "(PLFIT) Warning: finite-size bias may be present.\n",
      "\n",
      "(PLFIT) Warning: finite-size bias may be present.\n",
      "\n",
      "(PLFIT) Warning: finite-size bias may be present.\n",
      "\n",
      "(PLFIT) Warning: finite-size bias may be present.\n",
      "\n",
      "(PLFIT) Warning: finite-size bias may be present.\n",
      "\n"
     ]
    },
    {
     "name": "stderr",
     "output_type": "stream",
     "text": [
      " 77%|███████████████████████████████████████████████████████████▎                 | 77/100 [12:35<10:48, 28.22s/it]"
     ]
    },
    {
     "name": "stdout",
     "output_type": "stream",
     "text": [
      "(PLFIT) Warning: finite-size bias may be present.\n",
      "\n",
      "(PLFIT) Warning: finite-size bias may be present.\n",
      "\n",
      "(PLFIT) Warning: finite-size bias may be present.\n",
      "\n",
      "(PLFIT) Warning: finite-size bias may be present.\n",
      "\n",
      "(PLFIT) Warning: finite-size bias may be present.\n",
      "\n",
      "(PLFIT) Warning: finite-size bias may be present.\n",
      "\n",
      "(PLFIT) Warning: finite-size bias may be present.\n",
      "\n",
      "(PLFIT) Warning: finite-size bias may be present.\n",
      "\n",
      "(PLFIT) Warning: finite-size bias may be present.\n",
      "\n",
      "(PLFIT) Warning: finite-size bias may be present.\n",
      "\n",
      "(PLFIT) Warning: finite-size bias may be present.\n",
      "\n",
      "(PLFIT) Warning: finite-size bias may be present.\n",
      "\n",
      "(PLFIT) Warning: finite-size bias may be present.\n",
      "\n",
      "(PLFIT) Warning: finite-size bias may be present.\n",
      "\n",
      "(PLFIT) Warning: finite-size bias may be present.\n",
      "\n"
     ]
    },
    {
     "name": "stderr",
     "output_type": "stream",
     "text": [
      " 78%|████████████████████████████████████████████████████████████                 | 78/100 [13:10<11:08, 30.41s/it]"
     ]
    },
    {
     "name": "stdout",
     "output_type": "stream",
     "text": [
      "(PLFIT) Warning: finite-size bias may be present.\n",
      "\n",
      "(PLFIT) Warning: finite-size bias may be present.\n",
      "\n",
      "(PLFIT) Warning: finite-size bias may be present.\n",
      "\n",
      "(PLFIT) Warning: finite-size bias may be present.\n",
      "\n",
      "(PLFIT) Warning: finite-size bias may be present.\n",
      "\n",
      "(PLFIT) Warning: finite-size bias may be present.\n",
      "\n",
      "(PLFIT) Warning: finite-size bias may be present.\n",
      "\n",
      "(PLFIT) Warning: finite-size bias may be present.\n",
      "\n",
      "(PLFIT) Warning: finite-size bias may be present.\n",
      "\n",
      "(PLFIT) Warning: finite-size bias may be present.\n",
      "\n",
      "(PLFIT) Warning: finite-size bias may be present.\n",
      "\n",
      "(PLFIT) Warning: finite-size bias may be present.\n",
      "\n",
      "(PLFIT) Warning: finite-size bias may be present.\n",
      "\n",
      "(PLFIT) Warning: finite-size bias may be present.\n",
      "\n"
     ]
    },
    {
     "name": "stderr",
     "output_type": "stream",
     "text": [
      " 79%|████████████████████████████████████████████████████████████▊                | 79/100 [13:49<11:27, 32.76s/it]"
     ]
    },
    {
     "name": "stdout",
     "output_type": "stream",
     "text": [
      "(PLFIT) Warning: finite-size bias may be present.\n",
      "\n",
      "(PLFIT) Warning: finite-size bias may be present.\n",
      "\n",
      "(PLFIT) Warning: finite-size bias may be present.\n",
      "\n",
      "(PLFIT) Warning: finite-size bias may be present.\n",
      "\n",
      "(PLFIT) Warning: finite-size bias may be present.\n",
      "\n",
      "(PLFIT) Warning: finite-size bias may be present.\n",
      "\n",
      "(PLFIT) Warning: finite-size bias may be present.\n",
      "\n",
      "(PLFIT) Warning: finite-size bias may be present.\n",
      "\n",
      "(PLFIT) Warning: finite-size bias may be present.\n",
      "\n",
      "(PLFIT) Warning: finite-size bias may be present.\n",
      "\n",
      "(PLFIT) Warning: finite-size bias may be present.\n",
      "\n",
      "(PLFIT) Warning: finite-size bias may be present.\n",
      "\n",
      "(PLFIT) Warning: finite-size bias may be present.\n",
      "\n",
      "(PLFIT) Warning: finite-size bias may be present.\n",
      "\n",
      "(PLFIT) Warning: finite-size bias may be present.\n",
      "\n"
     ]
    },
    {
     "name": "stderr",
     "output_type": "stream",
     "text": [
      " 80%|█████████████████████████████████████████████████████████████▌               | 80/100 [14:31<11:54, 35.75s/it]"
     ]
    },
    {
     "name": "stdout",
     "output_type": "stream",
     "text": [
      "(PLFIT) Warning: finite-size bias may be present.\n",
      "\n",
      "(PLFIT) Warning: finite-size bias may be present.\n",
      "\n",
      "(PLFIT) Warning: finite-size bias may be present.\n",
      "\n",
      "(PLFIT) Warning: finite-size bias may be present.\n",
      "\n",
      "(PLFIT) Warning: finite-size bias may be present.\n",
      "\n",
      "(PLFIT) Warning: finite-size bias may be present.\n",
      "\n",
      "(PLFIT) Warning: finite-size bias may be present.\n",
      "\n",
      "(PLFIT) Warning: finite-size bias may be present.\n",
      "\n",
      "(PLFIT) Warning: finite-size bias may be present.\n",
      "\n",
      "(PLFIT) Warning: finite-size bias may be present.\n",
      "\n",
      "(PLFIT) Warning: finite-size bias may be present.\n",
      "\n",
      "(PLFIT) Warning: finite-size bias may be present.\n",
      "\n",
      "(PLFIT) Warning: finite-size bias may be present.\n",
      "\n",
      "(PLFIT) Warning: finite-size bias may be present.\n",
      "\n",
      "(PLFIT) Warning: finite-size bias may be present.\n",
      "\n",
      "(PLFIT) Warning: finite-size bias may be present.\n",
      "\n",
      "(PLFIT) Warning: finite-size bias may be present.\n",
      "\n",
      "(PLFIT) Warning: finite-size bias may be present.\n",
      "\n",
      "(PLFIT) Warning: finite-size bias may be present.\n",
      "\n",
      "(PLFIT) Warning: finite-size bias may be present.\n",
      "\n",
      "(PLFIT) Warning: finite-size bias may be present.\n",
      "\n",
      "(PLFIT) Warning: finite-size bias may be present.\n",
      "\n"
     ]
    },
    {
     "name": "stderr",
     "output_type": "stream",
     "text": [
      " 81%|██████████████████████████████████████████████████████████████▎              | 81/100 [15:13<11:53, 37.55s/it]"
     ]
    },
    {
     "name": "stdout",
     "output_type": "stream",
     "text": [
      "(PLFIT) Warning: finite-size bias may be present.\n",
      "\n",
      "(PLFIT) Warning: finite-size bias may be present.\n",
      "\n",
      "(PLFIT) Warning: finite-size bias may be present.\n",
      "\n",
      "(PLFIT) Warning: finite-size bias may be present.\n",
      "\n",
      "(PLFIT) Warning: finite-size bias may be present.\n",
      "\n",
      "(PLFIT) Warning: finite-size bias may be present.\n",
      "\n",
      "(PLFIT) Warning: finite-size bias may be present.\n",
      "\n",
      "(PLFIT) Warning: finite-size bias may be present.\n",
      "\n",
      "(PLFIT) Warning: finite-size bias may be present.\n",
      "\n",
      "(PLFIT) Warning: finite-size bias may be present.\n",
      "\n",
      "(PLFIT) Warning: finite-size bias may be present.\n",
      "\n"
     ]
    },
    {
     "name": "stderr",
     "output_type": "stream",
     "text": [
      " 82%|███████████████████████████████████████████████████████████████▏             | 82/100 [16:01<12:11, 40.66s/it]"
     ]
    },
    {
     "name": "stdout",
     "output_type": "stream",
     "text": [
      "(PLFIT) Warning: finite-size bias may be present.\n",
      "\n",
      "(PLFIT) Warning: finite-size bias may be present.\n",
      "\n",
      "(PLFIT) Warning: finite-size bias may be present.\n",
      "\n",
      "(PLFIT) Warning: finite-size bias may be present.\n",
      "\n",
      "(PLFIT) Warning: finite-size bias may be present.\n",
      "\n",
      "(PLFIT) Warning: finite-size bias may be present.\n",
      "\n",
      "(PLFIT) Warning: finite-size bias may be present.\n",
      "\n",
      "(PLFIT) Warning: finite-size bias may be present.\n",
      "\n",
      "(PLFIT) Warning: finite-size bias may be present.\n",
      "\n",
      "(PLFIT) Warning: finite-size bias may be present.\n",
      "\n",
      "(PLFIT) Warning: finite-size bias may be present.\n",
      "\n",
      "(PLFIT) Warning: finite-size bias may be present.\n",
      "\n",
      "(PLFIT) Warning: finite-size bias may be present.\n",
      "\n",
      "(PLFIT) Warning: finite-size bias may be present.\n",
      "\n",
      "(PLFIT) Warning: finite-size bias may be present.\n",
      "\n"
     ]
    },
    {
     "name": "stderr",
     "output_type": "stream",
     "text": [
      " 83%|███████████████████████████████████████████████████████████████▉             | 83/100 [16:54<12:34, 44.37s/it]"
     ]
    },
    {
     "name": "stdout",
     "output_type": "stream",
     "text": [
      "(PLFIT) Warning: finite-size bias may be present.\n",
      "\n",
      "(PLFIT) Warning: finite-size bias may be present.\n",
      "\n",
      "(PLFIT) Warning: finite-size bias may be present.\n",
      "\n",
      "(PLFIT) Warning: finite-size bias may be present.\n",
      "\n",
      "(PLFIT) Warning: finite-size bias may be present.\n",
      "\n",
      "(PLFIT) Warning: finite-size bias may be present.\n",
      "\n",
      "(PLFIT) Warning: finite-size bias may be present.\n",
      "\n",
      "(PLFIT) Warning: finite-size bias may be present.\n",
      "\n",
      "(PLFIT) Warning: finite-size bias may be present.\n",
      "\n",
      "(PLFIT) Warning: finite-size bias may be present.\n",
      "\n",
      "(PLFIT) Warning: finite-size bias may be present.\n",
      "\n",
      "(PLFIT) Warning: finite-size bias may be present.\n",
      "\n",
      "(PLFIT) Warning: finite-size bias may be present.\n",
      "\n",
      "(PLFIT) Warning: finite-size bias may be present.\n",
      "\n",
      "(PLFIT) Warning: finite-size bias may be present.\n",
      "\n",
      "(PLFIT) Warning: finite-size bias may be present.\n",
      "\n",
      "(PLFIT) Warning: finite-size bias may be present.\n",
      "\n",
      "(PLFIT) Warning: finite-size bias may be present.\n",
      "\n",
      "(PLFIT) Warning: finite-size bias may be present.\n",
      "\n"
     ]
    },
    {
     "name": "stderr",
     "output_type": "stream",
     "text": [
      " 84%|████████████████████████████████████████████████████████████████▋            | 84/100 [17:51<12:48, 48.06s/it]"
     ]
    },
    {
     "name": "stdout",
     "output_type": "stream",
     "text": [
      "(PLFIT) Warning: finite-size bias may be present.\n",
      "\n",
      "(PLFIT) Warning: finite-size bias may be present.\n",
      "\n",
      "(PLFIT) Warning: finite-size bias may be present.\n",
      "\n",
      "(PLFIT) Warning: finite-size bias may be present.\n",
      "\n",
      "(PLFIT) Warning: finite-size bias may be present.\n",
      "\n",
      "(PLFIT) Warning: finite-size bias may be present.\n",
      "\n",
      "(PLFIT) Warning: finite-size bias may be present.\n",
      "\n",
      "(PLFIT) Warning: finite-size bias may be present.\n",
      "\n",
      "(PLFIT) Warning: finite-size bias may be present.\n",
      "\n",
      "(PLFIT) Warning: finite-size bias may be present.\n",
      "\n",
      "(PLFIT) Warning: finite-size bias may be present.\n",
      "\n",
      "(PLFIT) Warning: finite-size bias may be present.\n",
      "\n",
      "(PLFIT) Warning: finite-size bias may be present.\n",
      "\n",
      "(PLFIT) Warning: finite-size bias may be present.\n",
      "\n",
      "(PLFIT) Warning: finite-size bias may be present.\n",
      "\n",
      "(PLFIT) Warning: finite-size bias may be present.\n",
      "\n",
      "(PLFIT) Warning: finite-size bias may be present.\n",
      "\n",
      "(PLFIT) Warning: finite-size bias may be present.\n",
      "\n",
      "(PLFIT) Warning: finite-size bias may be present.\n",
      "\n",
      "(PLFIT) Warning: finite-size bias may be present.\n",
      "\n",
      "(PLFIT) Warning: finite-size bias may be present.\n",
      "\n"
     ]
    },
    {
     "name": "stderr",
     "output_type": "stream",
     "text": [
      " 85%|█████████████████████████████████████████████████████████████████▍           | 85/100 [18:50<12:52, 51.49s/it]"
     ]
    },
    {
     "name": "stdout",
     "output_type": "stream",
     "text": [
      "(PLFIT) Warning: finite-size bias may be present.\n",
      "\n",
      "(PLFIT) Warning: finite-size bias may be present.\n",
      "\n",
      "(PLFIT) Warning: finite-size bias may be present.\n",
      "\n",
      "(PLFIT) Warning: finite-size bias may be present.\n",
      "\n",
      "(PLFIT) Warning: finite-size bias may be present.\n",
      "\n",
      "(PLFIT) Warning: finite-size bias may be present.\n",
      "\n",
      "(PLFIT) Warning: finite-size bias may be present.\n",
      "\n",
      "(PLFIT) Warning: finite-size bias may be present.\n",
      "\n",
      "(PLFIT) Warning: finite-size bias may be present.\n",
      "\n",
      "(PLFIT) Warning: finite-size bias may be present.\n",
      "\n",
      "(PLFIT) Warning: finite-size bias may be present.\n",
      "\n",
      "(PLFIT) Warning: finite-size bias may be present.\n",
      "\n",
      "(PLFIT) Warning: finite-size bias may be present.\n",
      "\n",
      "(PLFIT) Warning: finite-size bias may be present.\n",
      "\n",
      "(PLFIT) Warning: finite-size bias may be present.\n",
      "\n"
     ]
    },
    {
     "name": "stderr",
     "output_type": "stream",
     "text": [
      " 86%|██████████████████████████████████████████████████████████████████▏          | 86/100 [19:58<13:08, 56.31s/it]"
     ]
    },
    {
     "name": "stdout",
     "output_type": "stream",
     "text": [
      "(PLFIT) Warning: finite-size bias may be present.\n",
      "\n",
      "(PLFIT) Warning: finite-size bias may be present.\n",
      "\n",
      "(PLFIT) Warning: finite-size bias may be present.\n",
      "\n",
      "(PLFIT) Warning: finite-size bias may be present.\n",
      "\n",
      "(PLFIT) Warning: finite-size bias may be present.\n",
      "\n",
      "(PLFIT) Warning: finite-size bias may be present.\n",
      "\n",
      "(PLFIT) Warning: finite-size bias may be present.\n",
      "\n",
      "(PLFIT) Warning: finite-size bias may be present.\n",
      "\n",
      "(PLFIT) Warning: finite-size bias may be present.\n",
      "\n",
      "(PLFIT) Warning: finite-size bias may be present.\n",
      "\n",
      "(PLFIT) Warning: finite-size bias may be present.\n",
      "\n",
      "(PLFIT) Warning: finite-size bias may be present.\n",
      "\n",
      "(PLFIT) Warning: finite-size bias may be present.\n",
      "\n",
      "(PLFIT) Warning: finite-size bias may be present.\n",
      "\n",
      "(PLFIT) Warning: finite-size bias may be present.\n",
      "\n",
      "(PLFIT) Warning: finite-size bias may be present.\n",
      "\n",
      "(PLFIT) Warning: finite-size bias may be present.\n",
      "\n",
      "(PLFIT) Warning: finite-size bias may be present.\n",
      "\n",
      "(PLFIT) Warning: finite-size bias may be present.\n",
      "\n"
     ]
    },
    {
     "name": "stderr",
     "output_type": "stream",
     "text": [
      " 87%|██████████████████████████████████████████████████████████████████▉          | 87/100 [21:08<13:07, 60.59s/it]"
     ]
    },
    {
     "name": "stdout",
     "output_type": "stream",
     "text": [
      "(PLFIT) Warning: finite-size bias may be present.\n",
      "\n",
      "(PLFIT) Warning: finite-size bias may be present.\n",
      "\n",
      "(PLFIT) Warning: finite-size bias may be present.\n",
      "\n",
      "(PLFIT) Warning: finite-size bias may be present.\n",
      "\n",
      "(PLFIT) Warning: finite-size bias may be present.\n",
      "\n",
      "(PLFIT) Warning: finite-size bias may be present.\n",
      "\n",
      "(PLFIT) Warning: finite-size bias may be present.\n",
      "\n",
      "(PLFIT) Warning: finite-size bias may be present.\n",
      "\n",
      "(PLFIT) Warning: finite-size bias may be present.\n",
      "\n",
      "(PLFIT) Warning: finite-size bias may be present.\n",
      "\n",
      "(PLFIT) Warning: finite-size bias may be present.\n",
      "\n",
      "(PLFIT) Warning: finite-size bias may be present.\n",
      "\n",
      "(PLFIT) Warning: finite-size bias may be present.\n",
      "\n",
      "(PLFIT) Warning: finite-size bias may be present.\n",
      "\n",
      "(PLFIT) Warning: finite-size bias may be present.\n",
      "\n",
      "(PLFIT) Warning: finite-size bias may be present.\n",
      "\n",
      "(PLFIT) Warning: finite-size bias may be present.\n",
      "\n",
      "(PLFIT) Warning: finite-size bias may be present.\n",
      "\n"
     ]
    },
    {
     "name": "stderr",
     "output_type": "stream",
     "text": [
      " 88%|███████████████████████████████████████████████████████████████████▊         | 88/100 [22:23<12:57, 64.80s/it]"
     ]
    },
    {
     "name": "stdout",
     "output_type": "stream",
     "text": [
      "(PLFIT) Warning: finite-size bias may be present.\n",
      "\n",
      "(PLFIT) Warning: finite-size bias may be present.\n",
      "\n",
      "(PLFIT) Warning: finite-size bias may be present.\n",
      "\n",
      "(PLFIT) Warning: finite-size bias may be present.\n",
      "\n",
      "(PLFIT) Warning: finite-size bias may be present.\n",
      "\n",
      "(PLFIT) Warning: finite-size bias may be present.\n",
      "\n",
      "(PLFIT) Warning: finite-size bias may be present.\n",
      "\n",
      "(PLFIT) Warning: finite-size bias may be present.\n",
      "\n",
      "(PLFIT) Warning: finite-size bias may be present.\n",
      "\n",
      "(PLFIT) Warning: finite-size bias may be present.\n",
      "\n",
      "(PLFIT) Warning: finite-size bias may be present.\n",
      "\n",
      "(PLFIT) Warning: finite-size bias may be present.\n",
      "\n",
      "(PLFIT) Warning: finite-size bias may be present.\n",
      "\n",
      "(PLFIT) Warning: finite-size bias may be present.\n",
      "\n",
      "(PLFIT) Warning: finite-size bias may be present.\n",
      "\n",
      "(PLFIT) Warning: finite-size bias may be present.\n",
      "\n",
      "(PLFIT) Warning: finite-size bias may be present.\n",
      "\n"
     ]
    },
    {
     "name": "stderr",
     "output_type": "stream",
     "text": [
      " 89%|████████████████████████████████████████████████████████████████████▌        | 89/100 [23:35<12:18, 67.12s/it]"
     ]
    },
    {
     "name": "stdout",
     "output_type": "stream",
     "text": [
      "(PLFIT) Warning: finite-size bias may be present.\n",
      "\n",
      "(PLFIT) Warning: finite-size bias may be present.\n",
      "\n",
      "(PLFIT) Warning: finite-size bias may be present.\n",
      "\n",
      "(PLFIT) Warning: finite-size bias may be present.\n",
      "\n",
      "(PLFIT) Warning: finite-size bias may be present.\n",
      "\n",
      "(PLFIT) Warning: finite-size bias may be present.\n",
      "\n",
      "(PLFIT) Warning: finite-size bias may be present.\n",
      "\n",
      "(PLFIT) Warning: finite-size bias may be present.\n",
      "\n",
      "(PLFIT) Warning: finite-size bias may be present.\n",
      "\n",
      "(PLFIT) Warning: finite-size bias may be present.\n",
      "\n",
      "(PLFIT) Warning: finite-size bias may be present.\n",
      "\n",
      "(PLFIT) Warning: finite-size bias may be present.\n",
      "\n",
      "(PLFIT) Warning: finite-size bias may be present.\n",
      "\n",
      "(PLFIT) Warning: finite-size bias may be present.\n",
      "\n"
     ]
    },
    {
     "name": "stderr",
     "output_type": "stream",
     "text": [
      " 90%|█████████████████████████████████████████████████████████████████████▎       | 90/100 [24:51<11:37, 69.76s/it]"
     ]
    },
    {
     "name": "stdout",
     "output_type": "stream",
     "text": [
      "(PLFIT) Warning: finite-size bias may be present.\n",
      "\n",
      "(PLFIT) Warning: finite-size bias may be present.\n",
      "\n",
      "(PLFIT) Warning: finite-size bias may be present.\n",
      "\n",
      "(PLFIT) Warning: finite-size bias may be present.\n",
      "\n",
      "(PLFIT) Warning: finite-size bias may be present.\n",
      "\n",
      "(PLFIT) Warning: finite-size bias may be present.\n",
      "\n",
      "(PLFIT) Warning: finite-size bias may be present.\n",
      "\n",
      "(PLFIT) Warning: finite-size bias may be present.\n",
      "\n",
      "(PLFIT) Warning: finite-size bias may be present.\n",
      "\n"
     ]
    },
    {
     "name": "stderr",
     "output_type": "stream",
     "text": [
      " 91%|██████████████████████████████████████████████████████████████████████       | 91/100 [26:05<10:37, 70.81s/it]"
     ]
    },
    {
     "name": "stdout",
     "output_type": "stream",
     "text": [
      "(PLFIT) Warning: finite-size bias may be present.\n",
      "\n",
      "(PLFIT) Warning: finite-size bias may be present.\n",
      "\n",
      "(PLFIT) Warning: finite-size bias may be present.\n",
      "\n"
     ]
    },
    {
     "name": "stderr",
     "output_type": "stream",
     "text": [
      "100%|████████████████████████████████████████████████████████████████████████████| 100/100 [39:44<00:00, 23.85s/it]\n"
     ]
    }
   ],
   "source": [
    "from santafe import plplot\n",
    "from tqdm import tqdm\n",
    "import matplotlib.pyplot as plt\n",
    "EPOCH = 100\n",
    "\n",
    "all_alpha = []\n",
    "all_xmin = []\n",
    "all_xmax = []\n",
    "all_L = []\n",
    "\n",
    "start = 0.0001\n",
    "end = 0.8\n",
    "steps = 100\n",
    "\n",
    "for sigma in tqdm(np.linspace(start, end, steps)):\n",
    "    mean_alpha=0\n",
    "    mean_xmin=0\n",
    "    mean_L=0\n",
    "    mean_max_digit=0\n",
    "    for _ in range(EPOCH):\n",
    "        g, seq = create_graph(sigma)\n",
    "        \n",
    "        deglist = degree_sequence(g)\n",
    "        xxx = deglist\n",
    "        [alpha, xmin, L] = plfit(xxx)\n",
    "        max_digit = max(deglist)\n",
    "        \n",
    "        mean_alpha+=alpha\n",
    "        mean_xmin+=xmin\n",
    "        mean_L+=L\n",
    "        mean_max_digit+=max_digit\n",
    "\n",
    "    mean_alpha=mean_alpha/EPOCH\n",
    "    mean_xmin=mean_xmin/EPOCH\n",
    "    mean_L=mean_L/EPOCH\n",
    "    all_xmin.append(mean_xmin)\n",
    "    \n",
    "    all_alpha.append(mean_alpha)\n",
    "    all_L.append(mean_L)\n",
    "    mean_max_digit=mean_max_digit/EPOCH\n",
    "    all_xmax.append(mean_max_digit)"
   ]
  },
  {
   "cell_type": "code",
   "execution_count": 5,
   "metadata": {
    "colab": {
     "base_uri": "https://localhost:8080/",
     "height": 511
    },
    "executionInfo": {
     "elapsed": 2113,
     "status": "ok",
     "timestamp": 1736229569326,
     "user": {
      "displayName": "Soheil",
      "userId": "02148889709647549831"
     },
     "user_tz": -210
    },
    "id": "yO0E6wK1d24d",
    "outputId": "259b0243-4874-4815-e650-01bfacee3fce"
   },
   "outputs": [
    {
     "name": "stderr",
     "output_type": "stream",
     "text": [
      "<>:3: SyntaxWarning: invalid escape sequence '\\s'\n",
      "<>:4: SyntaxWarning: invalid escape sequence '\\s'\n",
      "<>:3: SyntaxWarning: invalid escape sequence '\\s'\n",
      "<>:4: SyntaxWarning: invalid escape sequence '\\s'\n",
      "/tmp/ipykernel_15714/3148233730.py:3: SyntaxWarning: invalid escape sequence '\\s'\n",
      "  plt.title(\"$\\\\alpha$ of LogLog algorithm vs. $\\sigma$\")\n",
      "/tmp/ipykernel_15714/3148233730.py:4: SyntaxWarning: invalid escape sequence '\\s'\n",
      "  plt.xlabel(\"$\\sigma$\")\n",
      "/tmp/ipykernel_15714/3148233730.py:6: UserWarning: No artists with labels found to put in legend.  Note that artists whose label start with an underscore are ignored when legend() is called with no argument.\n",
      "  plt.legend()\n"
     ]
    },
    {
     "data": {
      "image/png": "[encoded data removed]",
      "text/plain": [
       "<Figure size 640x480 with 1 Axes>"
      ]
     },
     "metadata": {},
     "output_type": "display_data"
    }
   ],
   "source": [
    "x = np.linspace(start, end, steps)\n",
    "plt.plot(x, all_alpha, color='orange')\n",
    "plt.title(\"$\\\\alpha$ of LogLog algorithm vs. $\\sigma$\")\n",
    "plt.xlabel(\"$\\sigma$\")\n",
    "plt.ylabel(\"$\\\\alpha$\")\n",
    "plt.legend()\n",
    "plt.show()"
   ]
  },
  {
   "cell_type": "code",
   "execution_count": 6,
   "metadata": {
    "colab": {
     "base_uri": "https://localhost:8080/",
     "height": 512
    },
    "executionInfo": {
     "elapsed": 1737,
     "status": "ok",
     "timestamp": 1736232269978,
     "user": {
      "displayName": "Soheil",
      "userId": "02148889709647549831"
     },
     "user_tz": -210
    },
    "id": "k9GB8xo9lJbC",
    "outputId": "9ec09556-489a-4d74-f85c-77cb1533d64d"
   },
   "outputs": [
    {
     "name": "stderr",
     "output_type": "stream",
     "text": [
      "<>:4: SyntaxWarning: invalid escape sequence '\\s'\n",
      "<>:5: SyntaxWarning: invalid escape sequence '\\s'\n",
      "<>:4: SyntaxWarning: invalid escape sequence '\\s'\n",
      "<>:5: SyntaxWarning: invalid escape sequence '\\s'\n",
      "/tmp/ipykernel_15714/1620707.py:4: SyntaxWarning: invalid escape sequence '\\s'\n",
      "  plt.title(\"$\\\\alpha$ of LogLog algorithm vs. $\\sigma$\")\n",
      "/tmp/ipykernel_15714/1620707.py:5: SyntaxWarning: invalid escape sequence '\\s'\n",
      "  plt.xlabel(\"$\\sigma$\")\n",
      "/tmp/ipykernel_15714/1620707.py:7: UserWarning: No artists with labels found to put in legend.  Note that artists whose label start with an underscore are ignored when legend() is called with no argument.\n",
      "  plt.legend()\n"
     ]
    },
    {
     "data": {
      "image/png": "[encoded data removed]",
      "text/plain": [
       "<Figure size 640x480 with 1 Axes>"
      ]
     },
     "metadata": {},
     "output_type": "display_data"
    }
   ],
   "source": [
    "x = np.linspace(start, end, steps)\n",
    "alpha = [1/((alpha - min(all_alpha))/(max(all_alpha) - min(all_alpha))+1) for alpha in all_alpha]\n",
    "plt.plot(x, alpha, color='orange')\n",
    "plt.title(\"$\\\\alpha$ of LogLog algorithm vs. $\\sigma$\")\n",
    "plt.xlabel(\"$\\sigma$\")\n",
    "plt.ylabel(\"1/$\\\\alpha$\")\n",
    "plt.legend()\n",
    "plt.show()"
   ]
  },
  {
   "cell_type": "code",
   "execution_count": 21,
   "metadata": {},
   "outputs": [
    {
     "name": "stderr",
     "output_type": "stream",
     "text": [
      "<>:4: SyntaxWarning: invalid escape sequence '\\s'\n",
      "<>:5: SyntaxWarning: invalid escape sequence '\\s'\n",
      "<>:4: SyntaxWarning: invalid escape sequence '\\s'\n",
      "<>:5: SyntaxWarning: invalid escape sequence '\\s'\n",
      "/tmp/ipykernel_15714/3854065423.py:4: SyntaxWarning: invalid escape sequence '\\s'\n",
      "  plt.title(\"xmin of LogLog algorithm vs. $\\sigma$\")\n",
      "/tmp/ipykernel_15714/3854065423.py:5: SyntaxWarning: invalid escape sequence '\\s'\n",
      "  plt.xlabel(\"$\\sigma$\")\n",
      "/tmp/ipykernel_15714/3854065423.py:7: UserWarning: No artists with labels found to put in legend.  Note that artists whose label start with an underscore are ignored when legend() is called with no argument.\n",
      "  plt.legend()\n"
     ]
    },
    {
     "data": {
      "image/png": "[encoded data removed]",
      "text/plain": [
       "<Figure size 640x480 with 1 Axes>"
      ]
     },
     "metadata": {},
     "output_type": "display_data"
    }
   ],
   "source": [
    "x = np.linspace(start, end, steps)\n",
    "# xmin = [xmin/xmax for xmin, xmax in zip(all_xmin, all_xmax)]\n",
    "plt.plot(x, all_xmin, color='orange')\n",
    "plt.title(\"xmin of LogLog algorithm vs. $\\sigma$\")\n",
    "plt.xlabel(\"$\\sigma$\")\n",
    "plt.ylabel(\"xmin degree\")\n",
    "plt.legend()\n",
    "plt.show()"
   ]
  },
  {
   "cell_type": "code",
   "execution_count": 7,
   "metadata": {
    "colab": {
     "base_uri": "https://localhost:8080/",
     "height": 511
    },
    "executionInfo": {
     "elapsed": 818,
     "status": "ok",
     "timestamp": 1736230069187,
     "user": {
      "displayName": "Soheil",
      "userId": "02148889709647549831"
     },
     "user_tz": -210
    },
    "id": "RB5BQA4xlk21",
    "outputId": "a21684c5-e23a-4637-a6b4-512611150009"
   },
   "outputs": [
    {
     "name": "stderr",
     "output_type": "stream",
     "text": [
      "<>:4: SyntaxWarning: invalid escape sequence '\\s'\n",
      "<>:5: SyntaxWarning: invalid escape sequence '\\s'\n",
      "<>:4: SyntaxWarning: invalid escape sequence '\\s'\n",
      "<>:5: SyntaxWarning: invalid escape sequence '\\s'\n",
      "/tmp/ipykernel_15714/57338279.py:4: SyntaxWarning: invalid escape sequence '\\s'\n",
      "  plt.title(\"xmin of LogLog algorithm vs. $\\sigma$\")\n",
      "/tmp/ipykernel_15714/57338279.py:5: SyntaxWarning: invalid escape sequence '\\s'\n",
      "  plt.xlabel(\"$\\sigma$\")\n",
      "/tmp/ipykernel_15714/57338279.py:7: UserWarning: No artists with labels found to put in legend.  Note that artists whose label start with an underscore are ignored when legend() is called with no argument.\n",
      "  plt.legend()\n"
     ]
    },
    {
     "data": {
      "image/png": "[encoded data removed]",
      "text/plain": [
       "<Figure size 640x480 with 1 Axes>"
      ]
     },
     "metadata": {},
     "output_type": "display_data"
    }
   ],
   "source": [
    "x = np.linspace(start, end, steps)\n",
    "# xmin = [xmin/xmax for xmin, xmax in zip(all_xmin, all_xmax)]\n",
    "plt.plot(x, all_xmin, color='orange')\n",
    "plt.title(\"xmin of LogLog algorithm vs. $\\sigma$\")\n",
    "plt.xlabel(\"$\\sigma$\")\n",
    "plt.ylabel(\"xmin/maximum degree\")\n",
    "plt.legend()\n",
    "plt.show()"
   ]
  },
  {
   "cell_type": "code",
   "execution_count": 8,
   "metadata": {
    "colab": {
     "base_uri": "https://localhost:8080/",
     "height": 511
    },
    "executionInfo": {
     "elapsed": 827,
     "status": "ok",
     "timestamp": 1736230874945,
     "user": {
      "displayName": "Soheil",
      "userId": "02148889709647549831"
     },
     "user_tz": -210
    },
    "id": "0BU-xNn4WUlB",
    "outputId": "a2ea3235-7d01-45ba-f366-6dfba2dc25f8"
   },
   "outputs": [
    {
     "name": "stderr",
     "output_type": "stream",
     "text": [
      "<>:5: SyntaxWarning: invalid escape sequence '\\s'\n",
      "<>:6: SyntaxWarning: invalid escape sequence '\\s'\n",
      "<>:5: SyntaxWarning: invalid escape sequence '\\s'\n",
      "<>:6: SyntaxWarning: invalid escape sequence '\\s'\n",
      "/tmp/ipykernel_15714/2206573423.py:5: SyntaxWarning: invalid escape sequence '\\s'\n",
      "  plt.title(\"xmin of LogLog algorithm vs. $\\sigma$\")\n",
      "/tmp/ipykernel_15714/2206573423.py:6: SyntaxWarning: invalid escape sequence '\\s'\n",
      "  plt.xlabel(\"$\\sigma$\")\n",
      "/tmp/ipykernel_15714/2206573423.py:8: UserWarning: No artists with labels found to put in legend.  Note that artists whose label start with an underscore are ignored when legend() is called with no argument.\n",
      "  plt.legend()\n"
     ]
    },
    {
     "data": {
      "image/png": "[encoded data removed]",
      "text/plain": [
       "<Figure size 640x480 with 1 Axes>"
      ]
     },
     "metadata": {},
     "output_type": "display_data"
    }
   ],
   "source": [
    "x = np.linspace(start, end, steps)\n",
    "xmin = [xmin/xmax for xmin, xmax in zip(all_xmin, all_xmax)]\n",
    "# xmin = [x/max(xmin) for x in xmin]\n",
    "plt.plot(x, xmin, color='orange')\n",
    "plt.title(\"xmin of LogLog algorithm vs. $\\sigma$\")\n",
    "plt.xlabel(\"$\\sigma$\")\n",
    "plt.ylabel(\"xmin/maximum degree\")\n",
    "plt.legend()\n",
    "plt.show()"
   ]
  },
  {
   "cell_type": "code",
   "execution_count": 9,
   "metadata": {
    "colab": {
     "base_uri": "https://localhost:8080/",
     "height": 512
    },
    "executionInfo": {
     "elapsed": 679,
     "status": "ok",
     "timestamp": 1736232339262,
     "user": {
      "displayName": "Soheil",
      "userId": "02148889709647549831"
     },
     "user_tz": -210
    },
    "id": "Vz7-bwlTahNo",
    "outputId": "2abaf331-f62e-4811-d741-6153b6e481b2"
   },
   "outputs": [
    {
     "name": "stderr",
     "output_type": "stream",
     "text": [
      "<>:4: SyntaxWarning: invalid escape sequence '\\s'\n",
      "<>:5: SyntaxWarning: invalid escape sequence '\\s'\n",
      "<>:4: SyntaxWarning: invalid escape sequence '\\s'\n",
      "<>:5: SyntaxWarning: invalid escape sequence '\\s'\n",
      "/tmp/ipykernel_15714/1036357204.py:4: SyntaxWarning: invalid escape sequence '\\s'\n",
      "  plt.title(\"xmin of LogLog algorithm vs. $\\sigma$\")\n",
      "/tmp/ipykernel_15714/1036357204.py:5: SyntaxWarning: invalid escape sequence '\\s'\n",
      "  plt.xlabel(\"$\\sigma$\")\n",
      "/tmp/ipykernel_15714/1036357204.py:7: UserWarning: No artists with labels found to put in legend.  Note that artists whose label start with an underscore are ignored when legend() is called with no argument.\n",
      "  plt.legend()\n"
     ]
    },
    {
     "data": {
      "image/png": "[encoded data removed]",
      "text/plain": [
       "<Figure size 640x480 with 1 Axes>"
      ]
     },
     "metadata": {},
     "output_type": "display_data"
    }
   ],
   "source": [
    "x = np.linspace(start, end, steps)\n",
    "xmin = [(xmin - min(all_xmin))/(max(all_xmin) - min(all_xmin)) for xmin in all_xmin]\n",
    "plt.plot(x, xmin, color='orange')\n",
    "plt.title(\"xmin of LogLog algorithm vs. $\\sigma$\")\n",
    "plt.xlabel(\"$\\sigma$\")\n",
    "plt.ylabel(\"xmin/maximum degree\")\n",
    "plt.legend()\n",
    "plt.show()"
   ]
  },
  {
   "cell_type": "code",
   "execution_count": 11,
   "metadata": {
    "colab": {
     "base_uri": "https://localhost:8080/",
     "height": 531
    },
    "executionInfo": {
     "elapsed": 859,
     "status": "ok",
     "timestamp": 1736232307927,
     "user": {
      "displayName": "Soheil",
      "userId": "02148889709647549831"
     },
     "user_tz": -210
    },
    "id": "bE_UrTtOlwEF",
    "outputId": "3fd6a740-7a2a-4092-9de9-33cff6835be9"
   },
   "outputs": [
    {
     "name": "stdout",
     "output_type": "stream",
     "text": [
      "[0.0, 0.1767381284843339, 0.19588670488513468, 0.2083065166905135, 0.2145728672599109, 0.22225149493603447, 0.22395464732716114, 0.2320459581412409, 0.22910126245064974, 0.23381392909367968, 0.2381160664724746, 0.23654749154079052, 0.23610949788036278, 0.23433544959770047, 0.24154818813902243, 0.2356949765729254, 0.2395850517213789, 0.25923425437932573, 0.34735205289495086, 0.4185692558395084, 0.46828094990679675, 0.5739880206775443, 0.6213372379476079, 0.6718487659079695, 0.6839586501476085, 0.6893859797190354, 0.7033434709450361, 0.6939803678235532, 0.6900207260824667, 0.6862362026160979, 0.6784388249997857, 0.6640183334353528, 0.6631509701176861, 0.6611922623610432, 0.6604717696593497, 0.6756436011974905, 0.7277580051602168, 0.7547383992092626, 0.811707781506609, 0.8191852324840153, 0.820901863233417, 0.8325410658900202, 0.8430690591592762, 0.8374419564807227, 0.853986157042828, 0.8763828266809017, 0.8957494060469523, 0.9168785223347379, 0.9094542583315156, 0.9506837710060339, 0.9607505460183421, 0.9462055104178018, 0.9798211930580535, 0.9978414724172595, 0.9890540769485562, 0.9785300089040218, 0.9665970010548792, 1.0, 0.9961084610758548, 0.9889336414144124, 0.9843915595045382, 0.953733987596893, 0.9930466379832039, 0.9875046323048812, 0.9382502470740995, 0.9639918009995502, 0.9530391367343387, 0.9565676550740924, 0.964748417399133, 0.9352289184180612, 0.9456221490511071, 0.9448064693719325, 0.9275879671755792, 0.9194736829849948, 0.8943500579474141, 0.9216655992817744, 0.8966971004859455, 0.8792942889223241, 0.8872966492841384, 0.8856285570647243, 0.901993989145256, 0.8892905695932689, 0.877401513478289, 0.8687691742244562, 0.8797667415927835, 0.8158520870454179, 0.9309965087422275, 0.868994942223124, 0.8657499451512886, 0.8501908540272932, 0.8315726954930064, 0.7764692767093825, 0.6405607589464424, 0.6106437038405591, 0.6220914777653661, 0.4612687322931363, 0.3276375642761812, 0.24781401838448722, 0.12730628650995668, 0.15134643989354474]\n"
     ]
    },
    {
     "name": "stderr",
     "output_type": "stream",
     "text": [
      "<>:14: SyntaxWarning: invalid escape sequence '\\s'\n",
      "<>:15: SyntaxWarning: invalid escape sequence '\\s'\n",
      "<>:14: SyntaxWarning: invalid escape sequence '\\s'\n",
      "<>:15: SyntaxWarning: invalid escape sequence '\\s'\n",
      "/tmp/ipykernel_15714/420924131.py:14: SyntaxWarning: invalid escape sequence '\\s'\n",
      "  plt.title(\"likelihood of LogLog algorithm vs. $\\sigma$\")\n",
      "/tmp/ipykernel_15714/420924131.py:15: SyntaxWarning: invalid escape sequence '\\s'\n",
      "  plt.xlabel(\"$\\sigma$\")\n",
      "/tmp/ipykernel_15714/420924131.py:17: UserWarning: No artists with labels found to put in legend.  Note that artists whose label start with an underscore are ignored when legend() is called with no argument.\n",
      "  plt.legend()\n"
     ]
    },
    {
     "data": {
      "image/png": "[encoded data removed]",
      "text/plain": [
       "<Figure size 640x480 with 1 Axes>"
      ]
     },
     "metadata": {},
     "output_type": "display_data"
    }
   ],
   "source": [
    "import math\n",
    "\n",
    "\n",
    "x = np.linspace(start, end, steps)\n",
    "\n",
    "L = [(L - min(all_L))/(max(all_L) - min(all_L)) for L in all_L]\n",
    "print(L)\n",
    "# L = [L/max(all_L) for L in all_L]\n",
    "# L = [l/max(L) for l in L]\n",
    "# L = [math.log(-1*l) for l in all_L]\n",
    "# L = [l/max(L) for l in L]\n",
    "# L = [l for l in L]\n",
    "plt.plot(x, L, color='orange')\n",
    "plt.title(\"likelihood of LogLog algorithm vs. $\\sigma$\")\n",
    "plt.xlabel(\"$\\sigma$\")\n",
    "plt.ylabel(\"likelihood/max_likelihood\")\n",
    "plt.legend()\n",
    "plt.show()"
   ]
  },
  {
   "cell_type": "code",
   "execution_count": 12,
   "metadata": {
    "colab": {
     "base_uri": "https://localhost:8080/",
     "height": 512
    },
    "executionInfo": {
     "elapsed": 959,
     "status": "ok",
     "timestamp": 1736232345852,
     "user": {
      "displayName": "Soheil",
      "userId": "02148889709647549831"
     },
     "user_tz": -210
    },
    "id": "f0ruGJAal3Is",
    "outputId": "9267d617-b97e-4b4f-e7a6-da2dd7af276c"
   },
   "outputs": [
    {
     "name": "stderr",
     "output_type": "stream",
     "text": [
      "<>:6: SyntaxWarning: invalid escape sequence '\\s'\n",
      "<>:7: SyntaxWarning: invalid escape sequence '\\s'\n",
      "<>:6: SyntaxWarning: invalid escape sequence '\\s'\n",
      "<>:7: SyntaxWarning: invalid escape sequence '\\s'\n",
      "/tmp/ipykernel_15714/3789253810.py:6: SyntaxWarning: invalid escape sequence '\\s'\n",
      "  plt.title(\"heterogeneity of LogLog algorithm vs. $\\sigma$\")\n",
      "/tmp/ipykernel_15714/3789253810.py:7: SyntaxWarning: invalid escape sequence '\\s'\n",
      "  plt.xlabel(\"$\\sigma$\")\n",
      "/tmp/ipykernel_15714/3789253810.py:9: UserWarning: No artists with labels found to put in legend.  Note that artists whose label start with an underscore are ignored when legend() is called with no argument.\n",
      "  plt.legend()\n"
     ]
    },
    {
     "data": {
      "image/png": "[encoded data removed]",
      "text/plain": [
       "<Figure size 640x480 with 1 Axes>"
      ]
     },
     "metadata": {},
     "output_type": "display_data"
    }
   ],
   "source": [
    "data = [(_alpha + _xmin)/2 for _alpha, _xmin in zip(alpha, xmin)]\n",
    "\n",
    "x = np.linspace(start, end, steps)\n",
    "\n",
    "plt.plot(x, data, color='orange')\n",
    "plt.title(\"heterogeneity of LogLog algorithm vs. $\\sigma$\")\n",
    "plt.xlabel(\"$\\sigma$\")\n",
    "plt.ylabel(\"heterogeneity\")\n",
    "plt.legend()\n",
    "plt.show()"
   ]
  },
  {
   "cell_type": "code",
   "execution_count": 18,
   "metadata": {
    "colab": {
     "base_uri": "https://localhost:8080/"
    },
    "executionInfo": {
     "elapsed": 5590,
     "status": "ok",
     "timestamp": 1736242113774,
     "user": {
      "displayName": "Soheil",
      "userId": "02148889709647549831"
     },
     "user_tz": -210
    },
    "id": "q6QioM1jJAJX",
    "outputId": "ce559e4c-7262-4585-950b-9bb3909b26c4"
   },
   "outputs": [
    {
     "name": "stderr",
     "output_type": "stream",
     "text": [
      " 82%|████████████████████████████████████████████████████████████████▎             | 33/40 [00:04<00:00,  8.22it/s]"
     ]
    },
    {
     "name": "stdout",
     "output_type": "stream",
     "text": [
      "(PLFIT) Warning: finite-size bias may be present.\n",
      "\n"
     ]
    },
    {
     "name": "stderr",
     "output_type": "stream",
     "text": [
      "100%|██████████████████████████████████████████████████████████████████████████████| 40/40 [00:05<00:00,  7.58it/s]"
     ]
    },
    {
     "name": "stdout",
     "output_type": "stream",
     "text": [
      "3.3370000000000006\n",
      "18.175\n",
      "-364.5002131518403\n",
      "0.39624182725085444\n"
     ]
    },
    {
     "name": "stderr",
     "output_type": "stream",
     "text": [
      "\n"
     ]
    }
   ],
   "source": [
    "mean_alpha=0\n",
    "mean_xmin=0\n",
    "mean_L=0\n",
    "mean_max_digit=0\n",
    "EPOCH = 40\n",
    "\n",
    "for _ in tqdm(range(EPOCH)):\n",
    "    g, seq = create_graph(0.5)\n",
    "    deglist = degree_sequence(g)\n",
    "    xxx = deglist\n",
    "    [alpha, xmin, L] = plfit(xxx)\n",
    "    max_digit = max(deglist)\n",
    "    \n",
    "    mean_alpha+=alpha\n",
    "    mean_xmin=mean_xmin+xmin\n",
    "    mean_L=mean_L+L\n",
    "    mean_max_digit=mean_max_digit+max_digit\n",
    "\n",
    "mean_alpha/=EPOCH\n",
    "mean_xmin/=EPOCH\n",
    "mean_L/=EPOCH\n",
    "mean_max_digit/=EPOCH\n",
    "\n",
    "print(mean_alpha)\n",
    "print(mean_xmin)\n",
    "print(mean_L)\n",
    "\n",
    "alpha = [1/((alpha - min(all_alpha))/(max(all_alpha) - min(all_alpha))+1) for alpha in all_alpha]\n",
    "xmin = [(xmin - min(all_xmin))/(max(all_xmin) - min(all_xmin)) for xmin in all_xmin]\n",
    "data = [(_alpha + _xmin)/2 for _alpha, _xmin in zip(alpha, xmin)]\n",
    "\n",
    "_alpha = 1/ ((mean_alpha - min(all_alpha)) / (max(all_alpha) - min(all_alpha))+1)\n",
    "_xmin = (mean_xmin - min(all_xmin)) / (max(all_xmin) - min(all_xmin))\n",
    "print((_alpha + _xmin)/2)"
   ]
  },
  {
   "cell_type": "code",
   "execution_count": 19,
   "metadata": {
    "colab": {
     "base_uri": "https://localhost:8080/",
     "height": 512
    },
    "executionInfo": {
     "elapsed": 6,
     "status": "ok",
     "timestamp": 1736242116997,
     "user": {
      "displayName": "Soheil",
      "userId": "02148889709647549831"
     },
     "user_tz": -210
    },
    "id": "3MHwhs-1JAG4",
    "outputId": "f5b8e55d-4b9e-4e16-a3ca-e0b37eb7afce"
   },
   "outputs": [
    {
     "name": "stderr",
     "output_type": "stream",
     "text": [
      "<>:4: SyntaxWarning: invalid escape sequence '\\s'\n",
      "<>:5: SyntaxWarning: invalid escape sequence '\\s'\n",
      "<>:4: SyntaxWarning: invalid escape sequence '\\s'\n",
      "<>:5: SyntaxWarning: invalid escape sequence '\\s'\n",
      "/tmp/ipykernel_15714/2847835602.py:4: SyntaxWarning: invalid escape sequence '\\s'\n",
      "  plt.title(\"heterogeneity of LogLog algorithm vs. $\\sigma$\")\n",
      "/tmp/ipykernel_15714/2847835602.py:5: SyntaxWarning: invalid escape sequence '\\s'\n",
      "  plt.xlabel(\"$\\sigma$\")\n",
      "/tmp/ipykernel_15714/2847835602.py:7: UserWarning: No artists with labels found to put in legend.  Note that artists whose label start with an underscore are ignored when legend() is called with no argument.\n",
      "  plt.legend()\n"
     ]
    },
    {
     "data": {
      "image/png": "[encoded data removed]",
      "text/plain": [
       "<Figure size 640x480 with 1 Axes>"
      ]
     },
     "metadata": {},
     "output_type": "display_data"
    }
   ],
   "source": [
    "x = np.linspace(start, end, steps)\n",
    "plt.plot(x, data, color='orange')\n",
    "plt.scatter([0.5], [(_alpha + _xmin)/2], color='red')\n",
    "plt.title(\"heterogeneity of LogLog algorithm vs. $\\sigma$\")\n",
    "plt.xlabel(\"$\\sigma$\")\n",
    "plt.ylabel(\"heterogeneity\")\n",
    "plt.legend()\n",
    "plt.show()"
   ]
  }
 ],
 "metadata": {
  "accelerator": "GPU",
  "colab": {
   "gpuType": "T4",
   "provenance": []
  },
  "kernelspec": {
   "display_name": "Python 3 (ipykernel)",
   "language": "python",
   "name": "python3"
  },
  "language_info": {
   "codemirror_mode": {
    "name": "ipython",
    "version": 3
   },
   "file_extension": ".py",
   "mimetype": "text/x-python",
   "name": "python",
   "nbconvert_exporter": "python",
   "pygments_lexer": "ipython3",
   "version": "3.12.3"
  }
 },
 "nbformat": 4,
 "nbformat_minor": 4
}
