{
 "cells": [
  {
   "cell_type": "code",
   "execution_count": 2,
   "metadata": {},
   "outputs": [],
   "source": [
    "from cycle_ratio import CycleRatio, read_graph, node_edge_count\n",
    "import matplotlib.pyplot as plt\n",
    "import seaborn as sns\n",
    "import pandas as pd\n",
    "import json\n",
    "import time\n",
    "import networkx as nx\n",
    "\n",
    "\n",
    "cycle_ratio = {}\n",
    "degree_ratio = {}\n",
    "coreness_ratio = {}\n",
    "h_index_ratio = {}\n",
    "corr_matrices = []\n",
    "\n",
    "datasets = ['Email.txt', 'Jazz.txt', 'NS_GC.txt', 'Celegans.txt', 'USAir.txt', 'Yeast.txt']"
   ]
  },
  {
   "cell_type": "code",
   "execution_count": 3,
   "metadata": {},
   "outputs": [
    {
     "name": "stdout",
     "output_type": "stream",
     "text": [
      "Processing Email network\n",
      "Processing Jazz network\n",
      "Processing NS_GC network\n",
      "Processing Celegans network\n",
      "Processing USAir network\n",
      "Processing Yeast network\n"
     ]
    }
   ],
   "source": [
    "for network in datasets:\n",
    "    graph = read_graph(f'Dataset/{network}')\n",
    "    node_count, edge_count = node_edge_count(graph=graph)\n",
    "    network_name = network.split('.')[0]\n",
    "    print(f'Processing {network_name} network')\n",
    "\n",
    "    all_nodes = list(graph.nodes())\n",
    "    # Degree Ratio\n",
    "    degree_ratio_data = dict(graph.degree)\n",
    "    fixed_degree_ratio = degree_ratio_data.values()\n",
    "    sorted_degree_ratio = sorted(degree_ratio_data.items(), key=lambda x:x[1])\n",
    "    sorted_degree_ratio = list(reversed(sorted_degree_ratio))\n",
    "    degree_ratio[network_name] = sorted_degree_ratio\n",
    "\n",
    "    # Coreness Ratio\n",
    "    coreness_ratio_data = nx.core_number(graph)\n",
    "    fixed_coreness_ratio = coreness_ratio_data.values()\n",
    "    sorted_coreness_ratio = sorted(coreness_ratio_data.items(), key=lambda x:x[1])\n",
    "    sorted_coreness_ratio = list(reversed(sorted_coreness_ratio))\n",
    "    coreness_ratio[network_name] = sorted_coreness_ratio\n",
    "    \n",
    "    # H-index Ratio\n",
    "    h_index_ratio_data = {}\n",
    "    for node in list(graph.nodes):\n",
    "        sorted_neighbor_degrees = sorted((graph.degree(v) for v in graph.neighbors(node)), reverse=True)\n",
    "        h = 0\n",
    "        for i in range(1, len(sorted_neighbor_degrees)+1):\n",
    "            if sorted_neighbor_degrees[i-1] < i:\n",
    "                break\n",
    "            h = i\n",
    "        h_index_ratio_data[node] = h\n",
    "    fixed_h_index_ratio = h_index_ratio_data.values()\n",
    "    sorted_h_index_ratio = sorted(h_index_ratio_data.items(), key=lambda x:x[1])\n",
    "    sorted_h_index_ratio = list(reversed(sorted_h_index_ratio))\n",
    "    h_index_ratio[network_name] = sorted_h_index_ratio\n",
    "\n",
    "    # Cycle Ratio\n",
    "    cr = CycleRatio(graph=graph)\n",
    "    cr.prune_graph()\n",
    "    cr.getSmallestCycles()\n",
    "    cr.StatisticsAndCalculateIndicators(network=network_name)\n",
    "    fixed_cycle_ratio = []\n",
    "\n",
    "    for node in all_nodes:\n",
    "        fixed_cycle_ratio.append(cr.CycleRatio[node])\n",
    "    \n",
    "    sorted_cycle_ratio = sorted(cr.CycleRatio.items(), key=lambda x:x[1])\n",
    "    sorted_cycle_ratio = list(reversed(sorted_cycle_ratio))\n",
    "    cycle_ratio[network_name] = sorted_cycle_ratio\n",
    "\n",
    "    df = pd.DataFrame(\n",
    "        {\n",
    "            'D': fixed_degree_ratio,\n",
    "            'H': fixed_h_index_ratio,\n",
    "            'C': fixed_coreness_ratio,\n",
    "            'R': fixed_cycle_ratio,\n",
    "        }\n",
    "    )\n",
    "    corr_matrices.append(df)"
   ]
  },
  {
   "cell_type": "code",
   "execution_count": 4,
   "metadata": {},
   "outputs": [],
   "source": [
    "for df in corr_matrices:\n",
    "    df['D'] = df['D'].rank(method='average')\n",
    "    df['H'] = df['H'].rank(method='average')\n",
    "    df['C'] = df['C'].rank(method='average')\n",
    "    df['R'] = df['R'].rank(method='average')\n",
    "\n",
    "correlation_matrices = [df[['D', 'H', 'C', 'R']].corr(method='kendall') for df in corr_matrices]\n",
    "\n",
    "average_correlation_matrix = sum(correlation_matrices) / len(correlation_matrices)"
   ]
  },
  {
   "cell_type": "code",
   "execution_count": 6,
   "metadata": {},
   "outputs": [
    {
     "data": {
      "text/html": [
       "<div>\n",
       "<style scoped>\n",
       "    .dataframe tbody tr th:only-of-type {\n",
       "        vertical-align: middle;\n",
       "    }\n",
       "\n",
       "    .dataframe tbody tr th {\n",
       "        vertical-align: top;\n",
       "    }\n",
       "\n",
       "    .dataframe thead th {\n",
       "        text-align: right;\n",
       "    }\n",
       "</style>\n",
       "<table border=\"1\" class=\"dataframe\">\n",
       "  <thead>\n",
       "    <tr style=\"text-align: right;\">\n",
       "      <th></th>\n",
       "      <th>D</th>\n",
       "      <th>H</th>\n",
       "      <th>C</th>\n",
       "      <th>R</th>\n",
       "    </tr>\n",
       "  </thead>\n",
       "  <tbody>\n",
       "    <tr>\n",
       "      <th>D</th>\n",
       "      <td>1.000000</td>\n",
       "      <td>0.903107</td>\n",
       "      <td>0.844854</td>\n",
       "      <td>0.676149</td>\n",
       "    </tr>\n",
       "    <tr>\n",
       "      <th>H</th>\n",
       "      <td>0.903107</td>\n",
       "      <td>1.000000</td>\n",
       "      <td>0.929608</td>\n",
       "      <td>0.590355</td>\n",
       "    </tr>\n",
       "    <tr>\n",
       "      <th>C</th>\n",
       "      <td>0.844854</td>\n",
       "      <td>0.929608</td>\n",
       "      <td>1.000000</td>\n",
       "      <td>0.542971</td>\n",
       "    </tr>\n",
       "    <tr>\n",
       "      <th>R</th>\n",
       "      <td>0.676149</td>\n",
       "      <td>0.590355</td>\n",
       "      <td>0.542971</td>\n",
       "      <td>1.000000</td>\n",
       "    </tr>\n",
       "  </tbody>\n",
       "</table>\n",
       "</div>"
      ],
      "text/plain": [
       "          D         H         C         R\n",
       "D  1.000000  0.903107  0.844854  0.676149\n",
       "H  0.903107  1.000000  0.929608  0.590355\n",
       "C  0.844854  0.929608  1.000000  0.542971\n",
       "R  0.676149  0.590355  0.542971  1.000000"
      ]
     },
     "execution_count": 6,
     "metadata": {},
     "output_type": "execute_result"
    }
   ],
   "source": [
    "average_correlation_matrix"
   ]
  },
  {
   "cell_type": "code",
   "execution_count": 9,
   "metadata": {},
   "outputs": [
    {
     "name": "stdout",
     "output_type": "stream",
     "text": [
      "          D         H         C         R\n",
      "D  1.000000  0.903107  0.844854  0.676149\n",
      "H  0.903107  1.000000  0.929608  0.590355\n",
      "C  0.844854  0.929608  1.000000  0.542971\n",
      "R  0.676149  0.590355  0.542971  1.000000\n"
     ]
    },
    {
     "data": {
      "image/png": "[encoded data removed]",
      "text/plain": [
       "<Figure size 600x600 with 2 Axes>"
      ]
     },
     "metadata": {},
     "output_type": "display_data"
    }
   ],
   "source": [
    "plt.figure(figsize=(6, 6))\n",
    "sns.heatmap(average_correlation_matrix, annot=True, cmap='Blues', linewidths=.5, vmin=0.5, vmax=1.0)\n",
    "plt.title(\"Averaged Correlation Matrix for Ranked D, H, C, R Indices\")\n",
    "plt.savefig('correlation_matrix.jpg')\n",
    "\n",
    "print(average_correlation_matrix)\n",
    "average_correlation_matrix.to_csv('correlation_matrix.csv', index=False)\n",
    "plt.show()"
   ]
  }
 ],
 "metadata": {
  "accelerator": "GPU",
  "colab": {
   "gpuType": "T4",
   "provenance": []
  },
  "kernelspec": {
   "display_name": "global_python__env",
   "language": "python",
   "name": "python3"
  },
  "language_info": {
   "codemirror_mode": {
    "name": "ipython",
    "version": 3
   },
   "file_extension": ".py",
   "mimetype": "text/x-python",
   "name": "python",
   "nbconvert_exporter": "python",
   "pygments_lexer": "ipython3",
   "version": "3.12.3"
  }
 },
 "nbformat": 4,
 "nbformat_minor": 4
}
